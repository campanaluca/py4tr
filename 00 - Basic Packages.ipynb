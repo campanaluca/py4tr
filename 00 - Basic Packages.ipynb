{
 "cells": [
  {
   "cell_type": "markdown",
   "metadata": {},
   "source": [
    "# Basic Python Packages for Trading"
   ]
  },
  {
   "cell_type": "markdown",
   "metadata": {},
   "source": [
    "###### Luca Campana"
   ]
  },
  {
   "cell_type": "markdown",
   "metadata": {},
   "source": [
    "### 0. Introduction"
   ]
  },
  {
   "cell_type": "markdown",
   "metadata": {},
   "source": [
    "#### Python in the Finance environment  "
   ]
  },
  {
   "cell_type": "markdown",
   "metadata": {},
   "source": [
    "##### Principal Python Packages for trading purposes "
   ]
  },
  {
   "cell_type": "markdown",
   "metadata": {},
   "source": [
    "##### Anaconda & conda"
   ]
  },
  {
   "cell_type": "markdown",
   "metadata": {},
   "source": [
    "![conda](./static/conda.png)"
   ]
  },
  {
   "cell_type": "markdown",
   "metadata": {},
   "source": [
    "http://conda.pydata.org/docs/intro.html\n",
    "\n",
    "Conda is a package manager application that quickly installs, runs, and updates packages and their dependencies. The conda command is the primary interface for managing installations of various packages. It can query and search the package index and current installation, create new environments, and install and update packages into existing conda environments. "
   ]
  },
  {
   "cell_type": "code",
   "execution_count": 1,
   "metadata": {
    "collapsed": false
   },
   "outputs": [
    {
     "data": {
      "text/html": [
       "\n",
       "        <iframe\n",
       "            width=\"700\"\n",
       "            height=\"400\"\n",
       "            src=\"http://conda.pydata.org/docs/_downloads/conda-cheatsheet.pdf\"\n",
       "            frameborder=\"0\"\n",
       "            allowfullscreen\n",
       "        ></iframe>\n",
       "        "
      ],
      "text/plain": [
       "<IPython.lib.display.IFrame at 0x10534b710>"
      ]
     },
     "execution_count": 1,
     "metadata": {},
     "output_type": "execute_result"
    }
   ],
   "source": [
    "from IPython.display import IFrame\n",
    "IFrame('http://conda.pydata.org/docs/_downloads/conda-cheatsheet.pdf', width=700, height=400)"
   ]
  },
  {
   "cell_type": "markdown",
   "metadata": {},
   "source": [
    "##### Main objectives of this workshop "
   ]
  },
  {
   "cell_type": "markdown",
   "metadata": {},
   "source": [
    "* Provide you with a first insight into the principal Python tools & libraries used in Finance:\n",
    "    - conda.\n",
    "    - Jupyter Notebook.\n",
    "    - NumPy, matplotlib, Pandas\n",
    "* Provide you with the basic skills to face basic tasks such as:\n",
    "    - Time Series Analisys\n",
    "    - Statistical Analisys\n",
    "    - Technical Analysis\n",
    "* Show other common libraries:\n",
    "    - SciPy, scikit-learn\n",
    "    - SymPy\n",
    "    - Numba ¿?"
   ]
  },
  {
   "cell_type": "markdown",
   "metadata": {},
   "source": [
    "### 1. Jupyter Notebook"
   ]
  },
  {
   "cell_type": "markdown",
   "metadata": {},
   "source": [
    "![jupyter](./static/jupyter-logo.png)"
   ]
  },
  {
   "cell_type": "markdown",
   "metadata": {},
   "source": [
    "The Jupyter Notebook is a web application that allows you to create and share documents that contain live code, equations, visualizations and explanatory text. Uses include: data cleaning and transformation, numerical simulation, statistical modeling, machine learning and much more.\n",
    "\n",
    "It has been widely recognised as a great way to distribute scientific papers, because of the capability to have an integrated format with text and executable code, highly reproducible. Top level investigators around the world are already using it, like the team behind the Gravitational Waves discovery (LIGO), whose analysis was translated to an interactive dowloadable Jupyter notebook. You can see it here: https://github.com/minrk/ligo-binder/blob/master/GW150914_tutorial.ipynb"
   ]
  },
  {
   "cell_type": "markdown",
   "metadata": {},
   "source": [
    "### 2. Using arrays: NumPy "
   ]
  },
  {
   "cell_type": "markdown",
   "metadata": {},
   "source": [
    "![numpy-logo](./static/numpy.png)"
   ]
  },
  {
   "cell_type": "markdown",
   "metadata": {},
   "source": [
    "#### ndarray object "
   ]
  },
  {
   "cell_type": "markdown",
   "metadata": {},
   "source": [
    "| index     | 0     | 1     | 2     | 3     | ...   | n-1   | n  |\n",
    "| ---------- | :---: | :---: | :---: | :---: | :---: | :---: | :---: |\n",
    "| value      | 4.7 | 9.5 | 2.8 | 6.2 | ...   | 3.4 | 7.1 |"
   ]
  },
  {
   "cell_type": "markdown",
   "metadata": {},
   "source": [
    "* N-dimensional data structure.\n",
    "* Homogeneously typed.\n",
    "* Efficient!\n",
    "\n",
    "A universal function (or ufunc for short) is a function that operates on ndarrays. It is a “vectorized function\"."
   ]
  },
  {
   "cell_type": "code",
   "execution_count": 2,
   "metadata": {
    "collapsed": false
   },
   "outputs": [],
   "source": [
    "# importing numpy\n",
    "import numpy as np"
   ]
  },
  {
   "cell_type": "code",
   "execution_count": 3,
   "metadata": {
    "collapsed": false
   },
   "outputs": [
    {
     "name": "stdout",
     "output_type": "stream",
     "text": [
      "1000 loops, best of 3: 1.13 ms per loop\n"
     ]
    }
   ],
   "source": [
    "# performance list sum\n",
    "my_list  = list(range(0,100000))\n",
    "%timeit sum(my_list)"
   ]
  },
  {
   "cell_type": "code",
   "execution_count": 4,
   "metadata": {
    "collapsed": false
   },
   "outputs": [
    {
     "name": "stdout",
     "output_type": "stream",
     "text": [
      "10000 loops, best of 3: 62.5 µs per loop\n"
     ]
    }
   ],
   "source": [
    "# performance array sum\n",
    "array = np.arange(0, 100000)\n",
    "%timeit np.sum(array)"
   ]
  },
  {
   "cell_type": "markdown",
   "metadata": {},
   "source": [
    "#### Array creation"
   ]
  },
  {
   "cell_type": "code",
   "execution_count": 5,
   "metadata": {
    "collapsed": false
   },
   "outputs": [
    {
     "data": {
      "text/plain": [
       "array([1, 2, 3, 4])"
      ]
     },
     "execution_count": 5,
     "metadata": {},
     "output_type": "execute_result"
    }
   ],
   "source": [
    "one_dim_array = np.array([1, 2, 3, 4])\n",
    "one_dim_array"
   ]
  },
  {
   "cell_type": "code",
   "execution_count": 6,
   "metadata": {
    "collapsed": false
   },
   "outputs": [
    {
     "data": {
      "text/plain": [
       "array([[1, 2, 3],\n",
       "       [4, 5, 6],\n",
       "       [7, 8, 9]])"
      ]
     },
     "execution_count": 6,
     "metadata": {},
     "output_type": "execute_result"
    }
   ],
   "source": [
    "two_dim_array = np.array([[1, 2, 3],\n",
    "                                           [4, 5, 6],\n",
    "                                           [7, 8, 9]])\n",
    "two_dim_array"
   ]
  },
  {
   "cell_type": "code",
   "execution_count": 7,
   "metadata": {
    "collapsed": false
   },
   "outputs": [
    {
     "data": {
      "text/plain": [
       "9"
      ]
     },
     "execution_count": 7,
     "metadata": {},
     "output_type": "execute_result"
    }
   ],
   "source": [
    "# size & shape\n",
    "two_dim_array.size"
   ]
  },
  {
   "cell_type": "code",
   "execution_count": 8,
   "metadata": {
    "collapsed": false
   },
   "outputs": [
    {
     "data": {
      "text/plain": [
       "(3, 3)"
      ]
     },
     "execution_count": 8,
     "metadata": {},
     "output_type": "execute_result"
    }
   ],
   "source": [
    "two_dim_array.shape"
   ]
  },
  {
   "cell_type": "code",
   "execution_count": 9,
   "metadata": {
    "collapsed": false
   },
   "outputs": [
    {
     "data": {
      "text/plain": [
       "dtype('int64')"
      ]
     },
     "execution_count": 9,
     "metadata": {},
     "output_type": "execute_result"
    }
   ],
   "source": [
    "# data type\n",
    "two_dim_array.dtype"
   ]
  },
  {
   "cell_type": "code",
   "execution_count": 10,
   "metadata": {
    "collapsed": false
   },
   "outputs": [],
   "source": [
    "# usual arrays\n",
    "zeros_arr = np.zeros([3, 3])\n",
    "ones_arr = np.ones([10])\n",
    "eye_arr = np.eye(5)"
   ]
  },
  {
   "cell_type": "code",
   "execution_count": 11,
   "metadata": {
    "collapsed": false
   },
   "outputs": [
    {
     "data": {
      "text/plain": [
       "array([ 0,  1,  2,  3,  4,  5,  6,  7,  8,  9, 10, 11, 12, 13, 14])"
      ]
     },
     "execution_count": 11,
     "metadata": {},
     "output_type": "execute_result"
    }
   ],
   "source": [
    "range_arr = np.arange(15)\n",
    "range_arr"
   ]
  },
  {
   "cell_type": "code",
   "execution_count": 12,
   "metadata": {
    "collapsed": false
   },
   "outputs": [
    {
     "data": {
      "text/plain": [
       "array([[ 0,  1,  2,  3,  4],\n",
       "       [ 5,  6,  7,  8,  9],\n",
       "       [10, 11, 12, 13, 14]])"
      ]
     },
     "execution_count": 12,
     "metadata": {},
     "output_type": "execute_result"
    }
   ],
   "source": [
    "# changing the shape\n",
    "range_arr.reshape([3, 5])"
   ]
  },
  {
   "cell_type": "code",
   "execution_count": 13,
   "metadata": {
    "collapsed": false
   },
   "outputs": [
    {
     "data": {
      "text/plain": [
       "array([  0. ,   0.5,   1. ,   1.5,   2. ,   2.5,   3. ,   3.5,   4. ,\n",
       "         4.5,   5. ,   5.5,   6. ,   6.5,   7. ,   7.5,   8. ,   8.5,\n",
       "         9. ,   9.5,  10. ])"
      ]
     },
     "execution_count": 13,
     "metadata": {},
     "output_type": "execute_result"
    }
   ],
   "source": [
    "# linspace\n",
    "np.linspace(0, 10, 21)"
   ]
  },
  {
   "cell_type": "markdown",
   "metadata": {},
   "source": [
    "#### Basic slicing "
   ]
  },
  {
   "cell_type": "code",
   "execution_count": 14,
   "metadata": {
    "collapsed": false
   },
   "outputs": [
    {
     "data": {
      "text/plain": [
       "1"
      ]
     },
     "execution_count": 14,
     "metadata": {},
     "output_type": "execute_result"
    }
   ],
   "source": [
    "one_dim_array[0]"
   ]
  },
  {
   "cell_type": "code",
   "execution_count": 15,
   "metadata": {
    "collapsed": false
   },
   "outputs": [
    {
     "name": "stdout",
     "output_type": "stream",
     "text": [
      "[[1 2 3]\n",
      " [4 5 6]\n",
      " [7 8 9]]\n"
     ]
    },
    {
     "data": {
      "text/plain": [
       "array([[2],\n",
       "       [5],\n",
       "       [8]])"
      ]
     },
     "execution_count": 15,
     "metadata": {},
     "output_type": "execute_result"
    }
   ],
   "source": [
    "print(two_dim_array)\n",
    "two_dim_array[:,1::2]"
   ]
  },
  {
   "cell_type": "markdown",
   "metadata": {},
   "source": [
    "`[start:stop:step]`"
   ]
  },
  {
   "cell_type": "code",
   "execution_count": 16,
   "metadata": {
    "collapsed": false
   },
   "outputs": [
    {
     "data": {
      "text/plain": [
       "array([ 0,  2,  4,  6,  8, 10, 12, 14, 16, 18, 20, 22, 24, 26, 28, 30, 32,\n",
       "       34, 36, 38, 40, 42, 44, 46, 48, 50, 52, 54, 56, 58, 60, 62, 64, 66,\n",
       "       68, 70, 72, 74, 76, 78, 80, 82, 84, 86, 88, 90, 92, 94, 96, 98])"
      ]
     },
     "execution_count": 16,
     "metadata": {},
     "output_type": "execute_result"
    }
   ],
   "source": [
    "my_arr = np.arange(100)\n",
    "my_arr[0::2]"
   ]
  },
  {
   "cell_type": "code",
   "execution_count": 17,
   "metadata": {
    "collapsed": false
   },
   "outputs": [
    {
     "data": {
      "text/plain": [
       "array([[0, 1, 0, 1, 0, 1, 0, 1],\n",
       "       [1, 0, 1, 0, 1, 0, 1, 0],\n",
       "       [0, 1, 0, 1, 0, 1, 0, 1],\n",
       "       [1, 0, 1, 0, 1, 0, 1, 0],\n",
       "       [0, 1, 0, 1, 0, 1, 0, 1],\n",
       "       [1, 0, 1, 0, 1, 0, 1, 0],\n",
       "       [0, 1, 0, 1, 0, 1, 0, 1],\n",
       "       [1, 0, 1, 0, 1, 0, 1, 0]])"
      ]
     },
     "execution_count": 17,
     "metadata": {},
     "output_type": "execute_result"
    }
   ],
   "source": [
    "# Chess board\n",
    "chess_board = np.zeros([8, 8], dtype=int)\n",
    "# your code\n",
    "chess_board[0::2, 1::2] = 1\n",
    "chess_board[1::2, 0::2] = 1\n",
    "\n",
    "chess_board"
   ]
  },
  {
   "cell_type": "raw",
   "metadata": {},
   "source": [
    "array([[0, 1, 0, 1, 0, 1, 0, 1],\n",
    "          [1, 0, 1, 0, 1, 0, 1, 0],\n",
    "          [0, 1, 0, 1, 0, 1, 0, 1],\n",
    "          [1, 0, 1, 0, 1, 0, 1, 0],\n",
    "          [0, 1, 0, 1, 0, 1, 0, 1],\n",
    "          [1, 0, 1, 0, 1, 0, 1, 0],\n",
    "          [0, 1, 0, 1, 0, 1, 0, 1],\n",
    "          [1, 0, 1, 0, 1, 0, 1, 0]])"
   ]
  },
  {
   "cell_type": "markdown",
   "metadata": {},
   "source": [
    "### 3. Drawing: Matplotlib"
   ]
  },
  {
   "cell_type": "markdown",
   "metadata": {},
   "source": [
    "![Matplotlib-logo](./static/matplotlib.png)"
   ]
  },
  {
   "cell_type": "code",
   "execution_count": 18,
   "metadata": {
    "collapsed": true
   },
   "outputs": [],
   "source": [
    "%matplotlib inline\n",
    "import matplotlib.pyplot as plt"
   ]
  },
  {
   "cell_type": "code",
   "execution_count": 19,
   "metadata": {
    "collapsed": false
   },
   "outputs": [
    {
     "data": {
      "text/plain": [
       "<matplotlib.image.AxesImage at 0x10f288b00>"
      ]
     },
     "execution_count": 19,
     "metadata": {},
     "output_type": "execute_result"
    },
    {
     "data": {
      "image/png": "[encoded data removed]",
      "text/plain": [
       "<matplotlib.figure.Figure at 0x10b4cb390>"
      ]
     },
     "metadata": {},
     "output_type": "display_data"
    }
   ],
   "source": [
    "# drawing the chessboard\n",
    "plt.matshow(chess_board, cmap=plt.cm.gray)"
   ]
  },
  {
   "cell_type": "markdown",
   "metadata": {},
   "source": [
    "#### Operations & linalg "
   ]
  },
  {
   "cell_type": "code",
   "execution_count": 20,
   "metadata": {
    "collapsed": false
   },
   "outputs": [],
   "source": [
    "# numpy functions\n",
    "x = np.linspace(1, 10)\n",
    "y = np.sin(x)"
   ]
  },
  {
   "cell_type": "code",
   "execution_count": 21,
   "metadata": {
    "collapsed": false
   },
   "outputs": [
    {
     "data": {
      "text/plain": [
       "[<matplotlib.lines.Line2D at 0x10f5e0f28>]"
      ]
     },
     "execution_count": 21,
     "metadata": {},
     "output_type": "execute_result"
    },
    {
     "data": {
      "image/png": "[encoded data removed]",
      "text/plain": [
       "<matplotlib.figure.Figure at 0x10f3122b0>"
      ]
     },
     "metadata": {},
     "output_type": "display_data"
    }
   ],
   "source": [
    "# plotting\n",
    "plt.plot(x, y)"
   ]
  },
  {
   "cell_type": "code",
   "execution_count": 22,
   "metadata": {
    "collapsed": false
   },
   "outputs": [],
   "source": [
    "# another function\n",
    "y_2 = (1 + np.log(x)) ** 2"
   ]
  },
  {
   "cell_type": "code",
   "execution_count": 23,
   "metadata": {
    "collapsed": false
   },
   "outputs": [
    {
     "data": {
      "text/plain": [
       "[<matplotlib.lines.Line2D at 0x10f69a9e8>]"
      ]
     },
     "execution_count": 23,
     "metadata": {},
     "output_type": "execute_result"
    },
    {
     "data": {
      "image/png": "[encoded data removed]",
      "text/plain": [
       "<matplotlib.figure.Figure at 0x10f5f6be0>"
      ]
     },
     "metadata": {},
     "output_type": "display_data"
    }
   ],
   "source": [
    "plt.plot(x, y_2, 'r-*')"
   ]
  },
  {
   "cell_type": "code",
   "execution_count": 24,
   "metadata": {
    "collapsed": false
   },
   "outputs": [
    {
     "data": {
      "text/plain": [
       "array([[10, 40, 77],\n",
       "       [25, 25, 68],\n",
       "       [33, 16, 91]])"
      ]
     },
     "execution_count": 24,
     "metadata": {},
     "output_type": "execute_result"
    }
   ],
   "source": [
    "# transpose\n",
    "two_dim_array = np.array([[10, 25, 33],\n",
    "                                           [40, 25, 16],\n",
    "                                           [77, 68, 91]])\n",
    "\n",
    "two_dim_array.T"
   ]
  },
  {
   "cell_type": "code",
   "execution_count": 25,
   "metadata": {
    "collapsed": false
   },
   "outputs": [
    {
     "data": {
      "text/plain": [
       "array([[ 3641,  3119,  3733],\n",
       "       [ 2632,  2713,  3176],\n",
       "       [10497,  9813, 11910]])"
      ]
     },
     "execution_count": 25,
     "metadata": {},
     "output_type": "execute_result"
    }
   ],
   "source": [
    "# matrix multiplication\n",
    "two_dim_array @ two_dim_array"
   ]
  },
  {
   "cell_type": "code",
   "execution_count": 26,
   "metadata": {
    "collapsed": false
   },
   "outputs": [
    {
     "data": {
      "text/plain": [
       "array([ 240.4,  250.8,  783.1])"
      ]
     },
     "execution_count": 26,
     "metadata": {},
     "output_type": "execute_result"
    }
   ],
   "source": [
    "# matrix vector\n",
    "one_dim_array = np.array([2.5, 3.6, 3.8])\n",
    "\n",
    "two_dim_array @ one_dim_array"
   ]
  },
  {
   "cell_type": "code",
   "execution_count": 27,
   "metadata": {
    "collapsed": false
   },
   "outputs": [
    {
     "data": {
      "text/plain": [
       "array([[-0.05372256,  0.00140303,  0.01923512],\n",
       "       [ 0.10898393,  0.07381761, -0.05250057],\n",
       "       [-0.03598099, -0.05634759,  0.03394433]])"
      ]
     },
     "execution_count": 27,
     "metadata": {},
     "output_type": "execute_result"
    }
   ],
   "source": [
    "# inv\n",
    "np.linalg.inv(two_dim_array)"
   ]
  },
  {
   "cell_type": "code",
   "execution_count": 28,
   "metadata": {
    "collapsed": false
   },
   "outputs": [
    {
     "data": {
      "text/plain": [
       "(array([ 133.6946629,  -17.266221 ,    9.5715581]),\n",
       " array([[-0.29580975, -0.74274264,  0.0661375 ],\n",
       "        [-0.24477775,  0.65983255, -0.79576005],\n",
       "        [-0.92335283,  0.1138173 ,  0.60198985]]))"
      ]
     },
     "execution_count": 28,
     "metadata": {},
     "output_type": "execute_result"
    }
   ],
   "source": [
    "# eigenvectors & eigenvalues\n",
    "np.linalg.eig(two_dim_array)"
   ]
  },
  {
   "cell_type": "markdown",
   "metadata": {},
   "source": [
    "#### Stock Exchange data "
   ]
  },
  {
   "cell_type": "code",
   "execution_count": 29,
   "metadata": {
    "collapsed": false
   },
   "outputs": [
    {
     "data": {
      "text/html": [
       "\n",
       "        <iframe\n",
       "            width=\"700\"\n",
       "            height=\"400\"\n",
       "            src=\"http://finance.yahoo.com/quotes/HTML,AAPL,IFRAME,CODE,GENERATOR/view/dv?bypass=true&t=2011-03-11T07%3A15%3A00-05%3A00&id=&ltr=1\"\n",
       "            frameborder=\"0\"\n",
       "            allowfullscreen\n",
       "        ></iframe>\n",
       "        "
      ],
      "text/plain": [
       "<IPython.lib.display.IFrame at 0x10f6a4240>"
      ]
     },
     "execution_count": 29,
     "metadata": {},
     "output_type": "execute_result"
    }
   ],
   "source": [
    "from IPython.display import IFrame\n",
    "IFrame('http://finance.yahoo.com/quotes/HTML,AAPL,IFRAME,CODE,GENERATOR/view/dv?bypass=true&t=2011-03-11T07%3A15%3A00-05%3A00&id=&ltr=1', \n",
    "       width=700, height=400)"
   ]
  },
  {
   "cell_type": "markdown",
   "metadata": {},
   "source": [
    "##### Loading the data "
   ]
  },
  {
   "cell_type": "code",
   "execution_count": 30,
   "metadata": {
    "collapsed": false
   },
   "outputs": [
    {
     "name": "stdout",
     "output_type": "stream",
     "text": [
      "Time (UTC);Open;High;Low;Close;Volume \r",
      "\r\n",
      "2016-01-03 22:00:00;120.188;120.204;120.183;120.204;12.75\r",
      "\r\n",
      "2016-01-03 22:02:00;120.206;120.209;120.206;120.209;3\r",
      "\r\n",
      "2016-01-03 22:04:00;120.211;120.211;120.21;120.21;5\r",
      "\r\n",
      "2016-01-03 22:05:00;120.21;120.21;120.205;120.207;21.46\r",
      "\r\n",
      "2016-01-03 22:06:00;120.207;120.219;120.206;120.219;24.9\r",
      "\r\n",
      "2016-01-03 22:07:00;120.219;120.232;120.217;120.217;28.75\r",
      "\r\n",
      "2016-01-03 22:08:00;120.225;120.225;120.225;120.225;4\r",
      "\r\n",
      "2016-01-03 22:09:00;120.23;120.231;120.216;120.216;21.38\r",
      "\r\n",
      "2016-01-03 22:10:00;120.216;120.228;120.216;120.224;12.7\r",
      "\r\n"
     ]
    }
   ],
   "source": [
    "filename = './data/USDJPY_UTC_1_Min_Bid_2016.01.01_2016.03.31.csv'\n",
    "# Linux command\n",
    "!head $filename\n",
    "\n",
    "# Windows\n",
    "# !gc $filename | select -first 10 # head"
   ]
  },
  {
   "cell_type": "code",
   "execution_count": 31,
   "metadata": {
    "collapsed": false,
    "scrolled": true
   },
   "outputs": [
    {
     "data": {
      "text/plain": [
       "array([[ 120.188,  120.204,  120.183,  120.204],\n",
       "       [ 120.206,  120.209,  120.206,  120.209],\n",
       "       [ 120.211,  120.211,  120.21 ,  120.21 ],\n",
       "       ..., \n",
       "       [ 112.53 ,  112.536,  112.524,  112.536],\n",
       "       [ 112.535,  112.547,  112.534,  112.534],\n",
       "       [ 112.533,  112.533,  112.499,  112.505]])"
      ]
     },
     "execution_count": 31,
     "metadata": {},
     "output_type": "execute_result"
    }
   ],
   "source": [
    "# loading the data\n",
    "data1 = np.genfromtxt(filename, skip_header=1, delimiter=';', usecols=(1,2,3,4))\n",
    "data1"
   ]
  },
  {
   "cell_type": "markdown",
   "metadata": {},
   "source": [
    "##### Dealing with missing values "
   ]
  },
  {
   "cell_type": "code",
   "execution_count": 32,
   "metadata": {
    "collapsed": false
   },
   "outputs": [
    {
     "data": {
      "text/plain": [
       "array([ nan,  nan,  nan,  nan])"
      ]
     },
     "execution_count": 32,
     "metadata": {},
     "output_type": "execute_result"
    }
   ],
   "source": [
    "# mean\n",
    "np.mean(data1, axis=0)"
   ]
  },
  {
   "cell_type": "code",
   "execution_count": 33,
   "metadata": {
    "collapsed": false,
    "scrolled": true
   },
   "outputs": [
    {
     "data": {
      "text/plain": [
       "array([ 115.19823205,  115.21119602,  115.18492796,  115.19803188])"
      ]
     },
     "execution_count": 33,
     "metadata": {},
     "output_type": "execute_result"
    }
   ],
   "source": [
    "np.nanmean(data1, axis=0)"
   ]
  },
  {
   "cell_type": "code",
   "execution_count": 34,
   "metadata": {
    "collapsed": false
   },
   "outputs": [
    {
     "data": {
      "text/plain": [
       "masked_array(data = [115.19823204720292 115.21119602186 115.18492796019669 115.19803187736618],\n",
       "             mask = [False False False False],\n",
       "       fill_value = 1e+20)"
      ]
     },
     "execution_count": 34,
     "metadata": {},
     "output_type": "execute_result"
    }
   ],
   "source": [
    "# masking invalid data\n",
    "data1 = np.ma.masked_invalid(data1)\n",
    "np.mean(data1, axis=0)"
   ]
  },
  {
   "cell_type": "code",
   "execution_count": 35,
   "metadata": {
    "collapsed": false
   },
   "outputs": [
    {
     "data": {
      "text/plain": [
       "masked_array(data =\n",
       " [[117.432 117.458 117.425 117.425]\n",
       " [117.427 117.442 117.324 117.437]\n",
       " [117.438 117.453 117.35 117.417]\n",
       " [117.408 117.413 117.242 117.243]\n",
       " [117.25 117.273 117.225 117.225]\n",
       " [117.225 117.244 117.222 117.222]\n",
       " [-- -- -- --]\n",
       " [117.222 117.222 117.13 117.142]\n",
       " [117.143 117.166 117.127 117.165]\n",
       " [117.173 117.179 117.161 117.176]],\n",
       "             mask =\n",
       " [[False False False False]\n",
       " [False False False False]\n",
       " [False False False False]\n",
       " [False False False False]\n",
       " [False False False False]\n",
       " [False False False False]\n",
       " [ True  True  True  True]\n",
       " [False False False False]\n",
       " [False False False False]\n",
       " [False False False False]],\n",
       "       fill_value = 1e+20)"
      ]
     },
     "execution_count": 35,
     "metadata": {},
     "output_type": "execute_result"
    }
   ],
   "source": [
    "data1[7190:7200]"
   ]
  },
  {
   "cell_type": "markdown",
   "metadata": {},
   "source": [
    "##### Plotting the data "
   ]
  },
  {
   "cell_type": "code",
   "execution_count": 36,
   "metadata": {
    "collapsed": false
   },
   "outputs": [
    {
     "data": {
      "text/plain": [
       "<matplotlib.legend.Legend at 0x11100fc18>"
      ]
     },
     "execution_count": 36,
     "metadata": {},
     "output_type": "execute_result"
    },
    {
     "data": {
      "image/png": "[encoded data removed]",
      "text/plain": [
       "<matplotlib.figure.Figure at 0x10f5fab70>"
      ]
     },
     "metadata": {},
     "output_type": "display_data"
    }
   ],
   "source": [
    "plt.figure(figsize=(15, 8))\n",
    "plt.plot(data1[0:30, 1], label='High')\n",
    "plt.plot(data1[0:30, 2], label='Low')\n",
    "\n",
    "plt.legend(title='USDJPY')"
   ]
  },
  {
   "cell_type": "markdown",
   "metadata": {},
   "source": [
    "** Limitations **"
   ]
  },
  {
   "cell_type": "markdown",
   "metadata": {},
   "source": [
    "* NO Datetime querys\n",
    "* NO Ordering\n",
    "* Consistency check"
   ]
  },
  {
   "cell_type": "markdown",
   "metadata": {},
   "source": [
    "### 4. Pandas"
   ]
  },
  {
   "cell_type": "markdown",
   "metadata": {},
   "source": [
    "![pandas](./static/pandas_logo.png)"
   ]
  },
  {
   "cell_type": "markdown",
   "metadata": {},
   "source": [
    "#### Important Features in pandas"
   ]
  },
  {
   "cell_type": "markdown",
   "metadata": {},
   "source": [
    "For each intensive task involving data `pandas` has become an essential library in the Python world.\n",
    "\n",
    "> You can see `pandas` like numpy array on steroids, that is, numpy arrays with labels for columns and rows and better support to work with diverse datasets.\n",
    "    \n",
    "The pervious one is not a deep definition.\n",
    "\n",
    "## Interesting features:\n",
    "\n",
    "\n",
    "* Input/Output for a lot of different data formats in an easy, fast and flexible way (csv, json, sql, HDF5, HTML,...).\n",
    "\n",
    "\n",
    "* Tools to deal with *missing* data (`.dropna()`, `pd.isnull()`).\n",
    "\n",
    "\n",
    "* Merge and combination (`concat`, `join`, `merge`).\n",
    "\n",
    "\n",
    "* Grouping (`groupby`).\n",
    "\n",
    "\n",
    "* Reshaping (`stack`, `unstack`, `pivot`, `pivot_table`).\n",
    "\n",
    "\n",
    "* Powerful time series data treatment (*resampling*, *timezones*, ...).\n",
    "\n",
    "\n",
    "* Easy plotting."
   ]
  },
  {
   "cell_type": "code",
   "execution_count": 37,
   "metadata": {
    "collapsed": true
   },
   "outputs": [],
   "source": [
    "import pandas as pd"
   ]
  },
  {
   "cell_type": "markdown",
   "metadata": {
    "collapsed": true
   },
   "source": [
    "##### Fast tabular data IO"
   ]
  },
  {
   "cell_type": "code",
   "execution_count": 38,
   "metadata": {
    "collapsed": false
   },
   "outputs": [
    {
     "name": "stdout",
     "output_type": "stream",
     "text": [
      "   91854 ./data/USDJPY_UTC_1_Min_Bid_2016.01.01_2016.03.31.csv\r\n"
     ]
    }
   ],
   "source": [
    "!wc -l $filename"
   ]
  },
  {
   "cell_type": "code",
   "execution_count": 39,
   "metadata": {
    "collapsed": false
   },
   "outputs": [
    {
     "data": {
      "text/html": [
       "<div>\n",
       "<table border=\"1\" class=\"dataframe\">\n",
       "  <thead>\n",
       "    <tr style=\"text-align: right;\">\n",
       "      <th></th>\n",
       "      <th>Time (UTC)</th>\n",
       "      <th>Open</th>\n",
       "      <th>High</th>\n",
       "      <th>Low</th>\n",
       "      <th>Close</th>\n",
       "      <th>Volume</th>\n",
       "    </tr>\n",
       "  </thead>\n",
       "  <tbody>\n",
       "    <tr>\n",
       "      <th>0</th>\n",
       "      <td>2016-01-03 22:00:00</td>\n",
       "      <td>120.188</td>\n",
       "      <td>120.204</td>\n",
       "      <td>120.183</td>\n",
       "      <td>120.204</td>\n",
       "      <td>12.75</td>\n",
       "    </tr>\n",
       "    <tr>\n",
       "      <th>1</th>\n",
       "      <td>2016-01-03 22:02:00</td>\n",
       "      <td>120.206</td>\n",
       "      <td>120.209</td>\n",
       "      <td>120.206</td>\n",
       "      <td>120.209</td>\n",
       "      <td>3.00</td>\n",
       "    </tr>\n",
       "    <tr>\n",
       "      <th>2</th>\n",
       "      <td>2016-01-03 22:04:00</td>\n",
       "      <td>120.211</td>\n",
       "      <td>120.211</td>\n",
       "      <td>120.210</td>\n",
       "      <td>120.210</td>\n",
       "      <td>5.00</td>\n",
       "    </tr>\n",
       "    <tr>\n",
       "      <th>3</th>\n",
       "      <td>2016-01-03 22:05:00</td>\n",
       "      <td>120.210</td>\n",
       "      <td>120.210</td>\n",
       "      <td>120.205</td>\n",
       "      <td>120.207</td>\n",
       "      <td>21.46</td>\n",
       "    </tr>\n",
       "    <tr>\n",
       "      <th>4</th>\n",
       "      <td>2016-01-03 22:06:00</td>\n",
       "      <td>120.207</td>\n",
       "      <td>120.219</td>\n",
       "      <td>120.206</td>\n",
       "      <td>120.219</td>\n",
       "      <td>24.90</td>\n",
       "    </tr>\n",
       "  </tbody>\n",
       "</table>\n",
       "</div>"
      ],
      "text/plain": [
       "            Time (UTC)     Open     High      Low    Close  Volume \n",
       "0  2016-01-03 22:00:00  120.188  120.204  120.183  120.204    12.75\n",
       "1  2016-01-03 22:02:00  120.206  120.209  120.206  120.209     3.00\n",
       "2  2016-01-03 22:04:00  120.211  120.211  120.210  120.210     5.00\n",
       "3  2016-01-03 22:05:00  120.210  120.210  120.205  120.207    21.46\n",
       "4  2016-01-03 22:06:00  120.207  120.219  120.206  120.219    24.90"
      ]
     },
     "execution_count": 39,
     "metadata": {},
     "output_type": "execute_result"
    }
   ],
   "source": [
    "usdjpy_bars = pd.read_csv(filename, delimiter=';')\n",
    "usdjpy_bars.head()"
   ]
  },
  {
   "cell_type": "code",
   "execution_count": 40,
   "metadata": {
    "collapsed": false
   },
   "outputs": [
    {
     "name": "stdout",
     "output_type": "stream",
     "text": [
      "CPU times: user 118 ms, sys: 13.8 ms, total: 132 ms\n",
      "Wall time: 131 ms\n"
     ]
    }
   ],
   "source": [
    "%time _ = pd.read_csv(filename)"
   ]
  },
  {
   "cell_type": "markdown",
   "metadata": {},
   "source": [
    "##### Time series operations"
   ]
  },
  {
   "cell_type": "code",
   "execution_count": 41,
   "metadata": {
    "collapsed": false
   },
   "outputs": [
    {
     "data": {
      "text/plain": [
       "Index(['Time (UTC)', 'Open', 'High', 'Low', 'Close', 'Volume '], dtype='object')"
      ]
     },
     "execution_count": 41,
     "metadata": {},
     "output_type": "execute_result"
    }
   ],
   "source": [
    "usdjpy_bars.columns"
   ]
  },
  {
   "cell_type": "code",
   "execution_count": 42,
   "metadata": {
    "collapsed": false
   },
   "outputs": [
    {
     "data": {
      "text/html": [
       "\n",
       "        <iframe\n",
       "            width=\"700\"\n",
       "            height=\"400\"\n",
       "            src=\"http://docs.python.org/2/library/datetime.html#strftime-and-strptime-behavior\"\n",
       "            frameborder=\"0\"\n",
       "            allowfullscreen\n",
       "        ></iframe>\n",
       "        "
      ],
      "text/plain": [
       "<IPython.lib.display.IFrame at 0x11126dfd0>"
      ]
     },
     "execution_count": 42,
     "metadata": {},
     "output_type": "execute_result"
    }
   ],
   "source": [
    "from IPython.display import IFrame\n",
    "IFrame('http://docs.python.org/2/library/datetime.html#strftime-and-strptime-behavior', width=700, height=400)"
   ]
  },
  {
   "cell_type": "code",
   "execution_count": 43,
   "metadata": {
    "collapsed": false
   },
   "outputs": [],
   "source": [
    "usdjpy_bars.index = pd.to_datetime(usdjpy_bars.pop('Time (UTC)'), format='%Y-%m-%d %H:%M:%S.%f')\n",
    "\n",
    "# usdjpy_bars['Gmt time'] = pd.to_datetime(usdjpy_bars['Time (UTC)'], format='%Y-%m-%d %H:%M:%S.%f')\n",
    "# usdjpy_bars = usdjpy_bars.set_index('Time (UTC)')"
   ]
  },
  {
   "cell_type": "code",
   "execution_count": 44,
   "metadata": {
    "collapsed": false
   },
   "outputs": [
    {
     "data": {
      "text/html": [
       "<div>\n",
       "<table border=\"1\" class=\"dataframe\">\n",
       "  <thead>\n",
       "    <tr style=\"text-align: right;\">\n",
       "      <th></th>\n",
       "      <th>Open</th>\n",
       "      <th>High</th>\n",
       "      <th>Low</th>\n",
       "      <th>Close</th>\n",
       "      <th>Volume</th>\n",
       "    </tr>\n",
       "    <tr>\n",
       "      <th>Time (UTC)</th>\n",
       "      <th></th>\n",
       "      <th></th>\n",
       "      <th></th>\n",
       "      <th></th>\n",
       "      <th></th>\n",
       "    </tr>\n",
       "  </thead>\n",
       "  <tbody>\n",
       "    <tr>\n",
       "      <th>2016-01-03 22:00:00</th>\n",
       "      <td>120.188</td>\n",
       "      <td>120.204</td>\n",
       "      <td>120.183</td>\n",
       "      <td>120.204</td>\n",
       "      <td>12.75</td>\n",
       "    </tr>\n",
       "    <tr>\n",
       "      <th>2016-01-03 22:02:00</th>\n",
       "      <td>120.206</td>\n",
       "      <td>120.209</td>\n",
       "      <td>120.206</td>\n",
       "      <td>120.209</td>\n",
       "      <td>3.00</td>\n",
       "    </tr>\n",
       "    <tr>\n",
       "      <th>2016-01-03 22:04:00</th>\n",
       "      <td>120.211</td>\n",
       "      <td>120.211</td>\n",
       "      <td>120.210</td>\n",
       "      <td>120.210</td>\n",
       "      <td>5.00</td>\n",
       "    </tr>\n",
       "    <tr>\n",
       "      <th>2016-01-03 22:05:00</th>\n",
       "      <td>120.210</td>\n",
       "      <td>120.210</td>\n",
       "      <td>120.205</td>\n",
       "      <td>120.207</td>\n",
       "      <td>21.46</td>\n",
       "    </tr>\n",
       "    <tr>\n",
       "      <th>2016-01-03 22:06:00</th>\n",
       "      <td>120.207</td>\n",
       "      <td>120.219</td>\n",
       "      <td>120.206</td>\n",
       "      <td>120.219</td>\n",
       "      <td>24.90</td>\n",
       "    </tr>\n",
       "    <tr>\n",
       "      <th>2016-01-03 22:07:00</th>\n",
       "      <td>120.219</td>\n",
       "      <td>120.232</td>\n",
       "      <td>120.217</td>\n",
       "      <td>120.217</td>\n",
       "      <td>28.75</td>\n",
       "    </tr>\n",
       "    <tr>\n",
       "      <th>2016-01-03 22:08:00</th>\n",
       "      <td>120.225</td>\n",
       "      <td>120.225</td>\n",
       "      <td>120.225</td>\n",
       "      <td>120.225</td>\n",
       "      <td>4.00</td>\n",
       "    </tr>\n",
       "    <tr>\n",
       "      <th>2016-01-03 22:09:00</th>\n",
       "      <td>120.230</td>\n",
       "      <td>120.231</td>\n",
       "      <td>120.216</td>\n",
       "      <td>120.216</td>\n",
       "      <td>21.38</td>\n",
       "    </tr>\n",
       "    <tr>\n",
       "      <th>2016-01-03 22:10:00</th>\n",
       "      <td>120.216</td>\n",
       "      <td>120.228</td>\n",
       "      <td>120.216</td>\n",
       "      <td>120.224</td>\n",
       "      <td>12.70</td>\n",
       "    </tr>\n",
       "    <tr>\n",
       "      <th>2016-01-03 22:11:00</th>\n",
       "      <td>120.226</td>\n",
       "      <td>120.226</td>\n",
       "      <td>120.223</td>\n",
       "      <td>120.224</td>\n",
       "      <td>9.27</td>\n",
       "    </tr>\n",
       "  </tbody>\n",
       "</table>\n",
       "</div>"
      ],
      "text/plain": [
       "                        Open     High      Low    Close  Volume \n",
       "Time (UTC)                                                      \n",
       "2016-01-03 22:00:00  120.188  120.204  120.183  120.204    12.75\n",
       "2016-01-03 22:02:00  120.206  120.209  120.206  120.209     3.00\n",
       "2016-01-03 22:04:00  120.211  120.211  120.210  120.210     5.00\n",
       "2016-01-03 22:05:00  120.210  120.210  120.205  120.207    21.46\n",
       "2016-01-03 22:06:00  120.207  120.219  120.206  120.219    24.90\n",
       "2016-01-03 22:07:00  120.219  120.232  120.217  120.217    28.75\n",
       "2016-01-03 22:08:00  120.225  120.225  120.225  120.225     4.00\n",
       "2016-01-03 22:09:00  120.230  120.231  120.216  120.216    21.38\n",
       "2016-01-03 22:10:00  120.216  120.228  120.216  120.224    12.70\n",
       "2016-01-03 22:11:00  120.226  120.226  120.223  120.224     9.27"
      ]
     },
     "execution_count": 44,
     "metadata": {},
     "output_type": "execute_result"
    }
   ],
   "source": [
    "usdjpy_bars.head(10)"
   ]
  },
  {
   "cell_type": "code",
   "execution_count": 45,
   "metadata": {
    "collapsed": false
   },
   "outputs": [
    {
     "data": {
      "text/html": [
       "<div>\n",
       "<table border=\"1\" class=\"dataframe\">\n",
       "  <thead>\n",
       "    <tr style=\"text-align: right;\">\n",
       "      <th></th>\n",
       "      <th>Open</th>\n",
       "      <th>High</th>\n",
       "      <th>Low</th>\n",
       "      <th>Close</th>\n",
       "      <th>Volume</th>\n",
       "    </tr>\n",
       "    <tr>\n",
       "      <th>Date</th>\n",
       "      <th></th>\n",
       "      <th></th>\n",
       "      <th></th>\n",
       "      <th></th>\n",
       "      <th></th>\n",
       "    </tr>\n",
       "  </thead>\n",
       "  <tbody>\n",
       "    <tr>\n",
       "      <th>2016-01-03 22:00:00</th>\n",
       "      <td>120.188</td>\n",
       "      <td>120.204</td>\n",
       "      <td>120.183</td>\n",
       "      <td>120.204</td>\n",
       "      <td>12.75</td>\n",
       "    </tr>\n",
       "    <tr>\n",
       "      <th>2016-01-03 22:02:00</th>\n",
       "      <td>120.206</td>\n",
       "      <td>120.209</td>\n",
       "      <td>120.206</td>\n",
       "      <td>120.209</td>\n",
       "      <td>3.00</td>\n",
       "    </tr>\n",
       "    <tr>\n",
       "      <th>2016-01-03 22:04:00</th>\n",
       "      <td>120.211</td>\n",
       "      <td>120.211</td>\n",
       "      <td>120.210</td>\n",
       "      <td>120.210</td>\n",
       "      <td>5.00</td>\n",
       "    </tr>\n",
       "    <tr>\n",
       "      <th>2016-01-03 22:05:00</th>\n",
       "      <td>120.210</td>\n",
       "      <td>120.210</td>\n",
       "      <td>120.205</td>\n",
       "      <td>120.207</td>\n",
       "      <td>21.46</td>\n",
       "    </tr>\n",
       "    <tr>\n",
       "      <th>2016-01-03 22:06:00</th>\n",
       "      <td>120.207</td>\n",
       "      <td>120.219</td>\n",
       "      <td>120.206</td>\n",
       "      <td>120.219</td>\n",
       "      <td>24.90</td>\n",
       "    </tr>\n",
       "  </tbody>\n",
       "</table>\n",
       "</div>"
      ],
      "text/plain": [
       "                        Open     High      Low    Close  Volume \n",
       "Date                                                            \n",
       "2016-01-03 22:00:00  120.188  120.204  120.183  120.204    12.75\n",
       "2016-01-03 22:02:00  120.206  120.209  120.206  120.209     3.00\n",
       "2016-01-03 22:04:00  120.211  120.211  120.210  120.210     5.00\n",
       "2016-01-03 22:05:00  120.210  120.210  120.205  120.207    21.46\n",
       "2016-01-03 22:06:00  120.207  120.219  120.206  120.219    24.90"
      ]
     },
     "execution_count": 45,
     "metadata": {},
     "output_type": "execute_result"
    }
   ],
   "source": [
    "usdjpy_bars.index.rename('Date', inplace=True)\n",
    "usdjpy_bars.head()"
   ]
  },
  {
   "cell_type": "code",
   "execution_count": 46,
   "metadata": {
    "collapsed": true
   },
   "outputs": [],
   "source": [
    "from datetime import time"
   ]
  },
  {
   "cell_type": "code",
   "execution_count": 47,
   "metadata": {
    "collapsed": false
   },
   "outputs": [
    {
     "data": {
      "text/html": [
       "<div>\n",
       "<table border=\"1\" class=\"dataframe\">\n",
       "  <thead>\n",
       "    <tr style=\"text-align: right;\">\n",
       "      <th></th>\n",
       "      <th>Open</th>\n",
       "      <th>High</th>\n",
       "      <th>Low</th>\n",
       "      <th>Close</th>\n",
       "      <th>Volume</th>\n",
       "    </tr>\n",
       "    <tr>\n",
       "      <th>Date</th>\n",
       "      <th></th>\n",
       "      <th></th>\n",
       "      <th></th>\n",
       "      <th></th>\n",
       "      <th></th>\n",
       "    </tr>\n",
       "  </thead>\n",
       "  <tbody>\n",
       "    <tr>\n",
       "      <th>2016-01-04 15:00:00</th>\n",
       "      <td>119.079</td>\n",
       "      <td>119.083</td>\n",
       "      <td>119.011</td>\n",
       "      <td>119.021</td>\n",
       "      <td>213.22</td>\n",
       "    </tr>\n",
       "    <tr>\n",
       "      <th>2016-01-05 15:00:00</th>\n",
       "      <td>119.113</td>\n",
       "      <td>119.128</td>\n",
       "      <td>119.099</td>\n",
       "      <td>119.128</td>\n",
       "      <td>284.40</td>\n",
       "    </tr>\n",
       "    <tr>\n",
       "      <th>2016-01-06 15:00:00</th>\n",
       "      <td>118.560</td>\n",
       "      <td>118.659</td>\n",
       "      <td>118.556</td>\n",
       "      <td>118.626</td>\n",
       "      <td>319.56</td>\n",
       "    </tr>\n",
       "    <tr>\n",
       "      <th>2016-01-07 15:00:00</th>\n",
       "      <td>118.079</td>\n",
       "      <td>118.090</td>\n",
       "      <td>118.049</td>\n",
       "      <td>118.052</td>\n",
       "      <td>205.25</td>\n",
       "    </tr>\n",
       "    <tr>\n",
       "      <th>2016-01-08 15:00:00</th>\n",
       "      <td>118.188</td>\n",
       "      <td>118.193</td>\n",
       "      <td>118.123</td>\n",
       "      <td>118.168</td>\n",
       "      <td>243.98</td>\n",
       "    </tr>\n",
       "  </tbody>\n",
       "</table>\n",
       "</div>"
      ],
      "text/plain": [
       "                        Open     High      Low    Close  Volume \n",
       "Date                                                            \n",
       "2016-01-04 15:00:00  119.079  119.083  119.011  119.021   213.22\n",
       "2016-01-05 15:00:00  119.113  119.128  119.099  119.128   284.40\n",
       "2016-01-06 15:00:00  118.560  118.659  118.556  118.626   319.56\n",
       "2016-01-07 15:00:00  118.079  118.090  118.049  118.052   205.25\n",
       "2016-01-08 15:00:00  118.188  118.193  118.123  118.168   243.98"
      ]
     },
     "execution_count": 47,
     "metadata": {},
     "output_type": "execute_result"
    }
   ],
   "source": [
    "usdjpy_bars.at_time(time(15, 0)).head()"
   ]
  },
  {
   "cell_type": "code",
   "execution_count": 48,
   "metadata": {
    "collapsed": false
   },
   "outputs": [
    {
     "data": {
      "text/plain": [
       "Date\n",
       "2016-01-08 00:00:00    117.509\n",
       "2016-01-08 00:01:00    117.539\n",
       "2016-01-08 00:02:00    117.522\n",
       "2016-01-08 00:03:00    117.521\n",
       "2016-01-08 00:04:00    117.553\n",
       "2016-01-08 00:05:00    117.594\n",
       "2016-01-08 00:06:00    117.576\n",
       "2016-01-08 00:07:00    117.581\n",
       "2016-01-08 00:08:00    117.625\n",
       "2016-01-08 00:09:00    117.609\n",
       "2016-01-08 00:10:00    117.628\n",
       "2016-01-08 00:11:00    117.614\n",
       "2016-01-08 00:12:00    117.586\n",
       "2016-01-08 00:13:00    117.576\n",
       "2016-01-08 00:14:00    117.573\n",
       "2016-01-08 00:15:00    117.617\n",
       "2016-01-08 00:16:00    117.637\n",
       "2016-01-08 00:17:00    117.620\n",
       "2016-01-08 00:18:00    117.627\n",
       "2016-01-08 00:19:00    117.620\n",
       "2016-01-08 00:20:00    117.630\n",
       "2016-01-08 00:21:00    117.619\n",
       "2016-01-08 00:22:00    117.635\n",
       "2016-01-08 00:23:00    117.619\n",
       "2016-01-08 00:24:00    117.622\n",
       "2016-01-08 00:25:00    117.669\n",
       "2016-01-08 00:26:00    117.687\n",
       "2016-01-08 00:27:00    117.685\n",
       "2016-01-08 00:28:00    117.681\n",
       "2016-01-08 00:29:00    117.706\n",
       "                        ...   \n",
       "2016-01-08 21:31:00    117.584\n",
       "2016-01-08 21:32:00    117.586\n",
       "2016-01-08 21:33:00    117.571\n",
       "2016-01-08 21:34:00    117.564\n",
       "2016-01-08 21:35:00    117.544\n",
       "2016-01-08 21:36:00    117.543\n",
       "2016-01-08 21:37:00    117.505\n",
       "2016-01-08 21:38:00    117.503\n",
       "2016-01-08 21:39:00    117.503\n",
       "2016-01-08 21:40:00    117.506\n",
       "2016-01-08 21:41:00    117.517\n",
       "2016-01-08 21:42:00    117.529\n",
       "2016-01-08 21:43:00    117.517\n",
       "2016-01-08 21:44:00    117.508\n",
       "2016-01-08 21:45:00    117.460\n",
       "2016-01-08 21:46:00    117.372\n",
       "2016-01-08 21:47:00    117.372\n",
       "2016-01-08 21:48:00    117.367\n",
       "2016-01-08 21:49:00    117.407\n",
       "2016-01-08 21:50:00    117.490\n",
       "2016-01-08 21:51:00    117.408\n",
       "2016-01-08 21:52:00    117.415\n",
       "2016-01-08 21:53:00    117.433\n",
       "2016-01-08 21:54:00    117.425\n",
       "2016-01-08 21:55:00    117.437\n",
       "2016-01-08 21:56:00    117.417\n",
       "2016-01-08 21:57:00    117.243\n",
       "2016-01-08 21:58:00    117.225\n",
       "2016-01-08 21:59:00    117.222\n",
       "2016-01-08 22:00:00        NaN\n",
       "Name: Close, dtype: float64"
      ]
     },
     "execution_count": 48,
     "metadata": {},
     "output_type": "execute_result"
    }
   ],
   "source": [
    "usdjpy_bars.Close['2016-01-08']"
   ]
  },
  {
   "cell_type": "code",
   "execution_count": 49,
   "metadata": {
    "collapsed": false
   },
   "outputs": [
    {
     "data": {
      "text/html": [
       "<div>\n",
       "<table border=\"1\" class=\"dataframe\">\n",
       "  <thead>\n",
       "    <tr style=\"text-align: right;\">\n",
       "      <th></th>\n",
       "      <th>mean</th>\n",
       "      <th>median</th>\n",
       "      <th>std</th>\n",
       "    </tr>\n",
       "    <tr>\n",
       "      <th>Date</th>\n",
       "      <th></th>\n",
       "      <th></th>\n",
       "      <th></th>\n",
       "    </tr>\n",
       "  </thead>\n",
       "  <tbody>\n",
       "    <tr>\n",
       "      <th>2016-01-03</th>\n",
       "      <td>120.286393</td>\n",
       "      <td>120.2940</td>\n",
       "      <td>0.040328</td>\n",
       "    </tr>\n",
       "    <tr>\n",
       "      <th>2016-01-04</th>\n",
       "      <td>119.372047</td>\n",
       "      <td>119.3405</td>\n",
       "      <td>0.378412</td>\n",
       "    </tr>\n",
       "    <tr>\n",
       "      <th>2016-01-05</th>\n",
       "      <td>119.179692</td>\n",
       "      <td>119.0930</td>\n",
       "      <td>0.225937</td>\n",
       "    </tr>\n",
       "    <tr>\n",
       "      <th>2016-01-06</th>\n",
       "      <td>118.582594</td>\n",
       "      <td>118.5700</td>\n",
       "      <td>0.162233</td>\n",
       "    </tr>\n",
       "    <tr>\n",
       "      <th>2016-01-07</th>\n",
       "      <td>117.855041</td>\n",
       "      <td>117.8830</td>\n",
       "      <td>0.290151</td>\n",
       "    </tr>\n",
       "    <tr>\n",
       "      <th>2016-01-08</th>\n",
       "      <td>118.078187</td>\n",
       "      <td>118.2415</td>\n",
       "      <td>0.309062</td>\n",
       "    </tr>\n",
       "    <tr>\n",
       "      <th>2016-01-09</th>\n",
       "      <td>NaN</td>\n",
       "      <td>NaN</td>\n",
       "      <td>NaN</td>\n",
       "    </tr>\n",
       "    <tr>\n",
       "      <th>2016-01-10</th>\n",
       "      <td>116.916958</td>\n",
       "      <td>116.9310</td>\n",
       "      <td>0.130214</td>\n",
       "    </tr>\n",
       "    <tr>\n",
       "      <th>2016-01-11</th>\n",
       "      <td>117.496844</td>\n",
       "      <td>117.4940</td>\n",
       "      <td>0.233563</td>\n",
       "    </tr>\n",
       "    <tr>\n",
       "      <th>2016-01-12</th>\n",
       "      <td>117.659044</td>\n",
       "      <td>117.6980</td>\n",
       "      <td>0.155619</td>\n",
       "    </tr>\n",
       "  </tbody>\n",
       "</table>\n",
       "</div>"
      ],
      "text/plain": [
       "                  mean    median       std\n",
       "Date                                      \n",
       "2016-01-03  120.286393  120.2940  0.040328\n",
       "2016-01-04  119.372047  119.3405  0.378412\n",
       "2016-01-05  119.179692  119.0930  0.225937\n",
       "2016-01-06  118.582594  118.5700  0.162233\n",
       "2016-01-07  117.855041  117.8830  0.290151\n",
       "2016-01-08  118.078187  118.2415  0.309062\n",
       "2016-01-09         NaN       NaN       NaN\n",
       "2016-01-10  116.916958  116.9310  0.130214\n",
       "2016-01-11  117.496844  117.4940  0.233563\n",
       "2016-01-12  117.659044  117.6980  0.155619"
      ]
     },
     "execution_count": 49,
     "metadata": {},
     "output_type": "execute_result"
    }
   ],
   "source": [
    "mth_mean = usdjpy_bars.Close.resample('d').apply(['mean', 'median', 'std'])\n",
    "mth_mean.head(10)"
   ]
  },
  {
   "cell_type": "code",
   "execution_count": 50,
   "metadata": {
    "collapsed": false
   },
   "outputs": [
    {
     "name": "stdout",
     "output_type": "stream",
     "text": [
      "<class 'pandas.core.frame.DataFrame'>\n",
      "DatetimeIndex: 91853 entries, 2016-01-03 22:00:00 to 2016-03-31 18:02:00\n",
      "Data columns (total 5 columns):\n",
      "Open       91852 non-null float64\n",
      "High       91852 non-null float64\n",
      "Low        91852 non-null float64\n",
      "Close      91852 non-null float64\n",
      "Volume     91852 non-null float64\n",
      "dtypes: float64(5)\n",
      "memory usage: 4.2 MB\n"
     ]
    }
   ],
   "source": [
    "usdjpy_bars.info()"
   ]
  },
  {
   "cell_type": "code",
   "execution_count": 51,
   "metadata": {
    "collapsed": false
   },
   "outputs": [
    {
     "data": {
      "text/plain": [
       "<matplotlib.axes._subplots.AxesSubplot at 0x119666f98>"
      ]
     },
     "execution_count": 51,
     "metadata": {},
     "output_type": "execute_result"
    },
    {
     "data": {
      "image/png": "[encoded data removed]",
      "text/plain": [
       "<matplotlib.figure.Figure at 0x1196660b8>"
      ]
     },
     "metadata": {},
     "output_type": "display_data"
    }
   ],
   "source": [
    "mth_mean.loc['2016-01', ('mean', 'median')].plot(figsize=(15, 8))"
   ]
  },
  {
   "cell_type": "code",
   "execution_count": 52,
   "metadata": {
    "collapsed": false
   },
   "outputs": [
    {
     "data": {
      "text/plain": [
       "<matplotlib.axes._subplots.AxesSubplot at 0x11b52e048>"
      ]
     },
     "execution_count": 52,
     "metadata": {},
     "output_type": "execute_result"
    },
    {
     "data": {
      "image/png": "[encoded data removed]",
      "text/plain": [
       "<matplotlib.figure.Figure at 0x11b4a0be0>"
      ]
     },
     "metadata": {},
     "output_type": "display_data"
    }
   ],
   "source": [
    "mth_mean.loc['2016-01', 'std'].plot(figsize=(15, 8))"
   ]
  },
  {
   "cell_type": "code",
   "execution_count": 53,
   "metadata": {
    "collapsed": false
   },
   "outputs": [
    {
     "data": {
      "text/plain": [
       "Date\n",
       "2016-01-03 22:00:00         NaN\n",
       "2016-01-03 22:02:00    0.000042\n",
       "2016-01-03 22:04:00    0.000008\n",
       "2016-01-03 22:05:00   -0.000025\n",
       "2016-01-03 22:06:00    0.000100\n",
       "2016-01-03 22:07:00   -0.000017\n",
       "2016-01-03 22:08:00    0.000067\n",
       "2016-01-03 22:09:00   -0.000075\n",
       "2016-01-03 22:10:00    0.000067\n",
       "2016-01-03 22:11:00    0.000000\n",
       "2016-01-03 22:12:00    0.000033\n",
       "2016-01-03 22:13:00   -0.000141\n",
       "2016-01-03 22:14:00    0.000092\n",
       "2016-01-03 22:15:00    0.000058\n",
       "2016-01-03 22:16:00    0.000008\n",
       "2016-01-03 22:17:00    0.000000\n",
       "2016-01-03 22:19:00   -0.000008\n",
       "2016-01-03 22:20:00    0.000008\n",
       "2016-01-03 22:21:00    0.000017\n",
       "2016-01-03 22:22:00    0.000000\n",
       "2016-01-03 22:23:00    0.000042\n",
       "2016-01-03 22:24:00    0.000042\n",
       "2016-01-03 22:25:00    0.000083\n",
       "2016-01-03 22:26:00    0.000017\n",
       "2016-01-03 22:27:00   -0.000017\n",
       "2016-01-03 22:28:00    0.000067\n",
       "2016-01-03 22:29:00    0.000133\n",
       "2016-01-03 22:30:00   -0.000042\n",
       "2016-01-03 22:31:00    0.000166\n",
       "2016-01-03 22:32:00   -0.000033\n",
       "                         ...   \n",
       "2016-03-31 17:33:00   -0.000249\n",
       "2016-03-31 17:34:00    0.000053\n",
       "2016-03-31 17:35:00    0.000071\n",
       "2016-03-31 17:36:00    0.000053\n",
       "2016-03-31 17:37:00    0.000009\n",
       "2016-03-31 17:38:00   -0.000044\n",
       "2016-03-31 17:39:00    0.000116\n",
       "2016-03-31 17:40:00    0.000036\n",
       "2016-03-31 17:41:00    0.000009\n",
       "2016-03-31 17:42:00    0.000053\n",
       "2016-03-31 17:43:00    0.000124\n",
       "2016-03-31 17:44:00    0.000036\n",
       "2016-03-31 17:45:00   -0.000107\n",
       "2016-03-31 17:46:00   -0.000044\n",
       "2016-03-31 17:47:00    0.000044\n",
       "2016-03-31 17:48:00   -0.000107\n",
       "2016-03-31 17:49:00   -0.000009\n",
       "2016-03-31 17:50:00   -0.000071\n",
       "2016-03-31 17:51:00   -0.000062\n",
       "2016-03-31 17:52:00   -0.000018\n",
       "2016-03-31 17:53:00    0.000000\n",
       "2016-03-31 17:54:00    0.000000\n",
       "2016-03-31 17:55:00   -0.000124\n",
       "2016-03-31 17:56:00    0.000044\n",
       "2016-03-31 17:57:00   -0.000080\n",
       "2016-03-31 17:58:00    0.000124\n",
       "2016-03-31 17:59:00    0.000044\n",
       "2016-03-31 18:00:00    0.000062\n",
       "2016-03-31 18:01:00   -0.000018\n",
       "2016-03-31 18:02:00   -0.000258\n",
       "Name: Close, dtype: float64"
      ]
     },
     "execution_count": 53,
     "metadata": {},
     "output_type": "execute_result"
    }
   ],
   "source": [
    "# calculate returns\n",
    "close = usdjpy_bars.Close\n",
    "close / close.shift(1) - 1"
   ]
  },
  {
   "cell_type": "code",
   "execution_count": 54,
   "metadata": {
    "collapsed": false
   },
   "outputs": [
    {
     "data": {
      "text/plain": [
       "<matplotlib.axes._subplots.AxesSubplot at 0x11b46e898>"
      ]
     },
     "execution_count": 54,
     "metadata": {},
     "output_type": "execute_result"
    },
    {
     "data": {
      "image/png": "[encoded data removed]",
      "text/plain": [
       "<matplotlib.figure.Figure at 0x11b43ebe0>"
      ]
     },
     "metadata": {},
     "output_type": "display_data"
    }
   ],
   "source": [
    "# calculate returns with pandas\n",
    "minute_returns = usdjpy_bars.Close.pct_change()\n",
    "std_10day = minute_returns.resample('D').mean().dropna().rolling(window=10).std()\n",
    "std_10day.plot(figsize=(15, 8))"
   ]
  },
  {
   "cell_type": "markdown",
   "metadata": {},
   "source": [
    "### 5. Trading"
   ]
  },
  {
   "cell_type": "markdown",
   "metadata": {},
   "source": [
    "##### Technical Analisys"
   ]
  },
  {
   "cell_type": "markdown",
   "metadata": {},
   "source": [
    "Bollinger Bands\n",
    "> Bollinger Bands consist of: an N-period moving average (MA) an upper band at K times an N-period standard deviation above the moving average (MA + Kσ) a lower band at K times an N-period standard deviation below the moving average (MA − Kσ)"
   ]
  },
  {
   "cell_type": "code",
   "execution_count": 55,
   "metadata": {
    "collapsed": false
   },
   "outputs": [],
   "source": [
    "# Bollinger Bands\n",
    "usdjpy_sample = usdjpy_bars.Close.resample('D').mean().dropna()\n",
    "usdjpy_mean =   usdjpy_bars.Close.resample('D').mean().dropna().rolling(window=20).mean()\n",
    "usdjpy_std  =   usdjpy_bars.Close.resample('D').mean().dropna().rolling(window=20).std()"
   ]
  },
  {
   "cell_type": "code",
   "execution_count": 56,
   "metadata": {
    "collapsed": false
   },
   "outputs": [
    {
     "data": {
      "text/plain": [
       "[<matplotlib.lines.Line2D at 0x11b345400>]"
      ]
     },
     "execution_count": 56,
     "metadata": {},
     "output_type": "execute_result"
    },
    {
     "data": {
      "image/png": "[encoded data removed]",
      "text/plain": [
       "<matplotlib.figure.Figure at 0x11b40abe0>"
      ]
     },
     "metadata": {},
     "output_type": "display_data"
    }
   ],
   "source": [
    "plt.figure(figsize=(15, 8))\n",
    "plt.plot(usdjpy_sample, 'b-o')\n",
    "plt.plot(usdjpy_mean, 'k-')\n",
    "plt.plot(usdjpy_mean - 2 * usdjpy_std, 'r--')\n",
    "plt.plot(usdjpy_mean + 2 * usdjpy_std, 'g--')"
   ]
  },
  {
   "cell_type": "markdown",
   "metadata": {},
   "source": [
    "##### Trading Strategy"
   ]
  },
  {
   "cell_type": "code",
   "execution_count": 57,
   "metadata": {
    "collapsed": true
   },
   "outputs": [],
   "source": [
    "results = pd.concat([usdjpy_sample, usdjpy_mean, usdjpy_std], axis=1,keys=['price', 'mean', 'std']).dropna()"
   ]
  },
  {
   "cell_type": "code",
   "execution_count": 58,
   "metadata": {
    "collapsed": false
   },
   "outputs": [
    {
     "name": "stdout",
     "output_type": "stream",
     "text": [
      "2016-02-02 00:00:00 - SHORT SIGNAL\n",
      "2016-02-04 00:00:00 - CLOSE SHORT\n",
      "Equity: 102609.44\n",
      "2016-02-12 00:00:00 - LONG SIGNAL\n",
      "2016-03-02 00:00:00 - CLOSE LONG\n",
      "Equity: 103729.29\n",
      "2016-03-21 00:00:00 - LONG SIGNAL\n",
      "2016-03-25 00:00:00 - CLOSE LONG\n",
      "Equity: 105079.12\n"
     ]
    }
   ],
   "source": [
    "out_up = False\n",
    "out_dn = False\n",
    "pos_long = False\n",
    "pos_short = False\n",
    "equity = 100000\n",
    "\n",
    "for index, row in results.iterrows():\n",
    "    if pos_long and row['price'] >= row['mean']:\n",
    "        pos_long = False\n",
    "        equity = eq_temp * row['price']\n",
    "        print('%s - CLOSE LONG' % index)\n",
    "        print('Equity: %.2f' % equity)\n",
    "    if pos_short and row['price'] <= row['mean']:\n",
    "        pos_short = False\n",
    "        equity = eq_temp / row['price']\n",
    "        print('%s - CLOSE SHORT' % index)\n",
    "        print('Equity: %.2f' % equity)\n",
    "    if out_up and row['price'] < (row['mean'] + 2. * row['std']):\n",
    "        out_up = False\n",
    "        pos_short = True\n",
    "        eq_temp = equity * row['price'] \n",
    "        print('%s - SHORT SIGNAL' % index)\n",
    "    if out_dn and row['price'] > (row['mean'] - 2. * row['std']):\n",
    "        out_dn = False\n",
    "        pos_long = True\n",
    "        eq_temp = equity / row['price']\n",
    "        print('%s - LONG SIGNAL' % index)\n",
    "    if not out_up and not out_dn and row['price'] > (row['mean'] + 2. * row['std']):\n",
    "        out_up = True\n",
    "    if not out_up and not out_dn and row['price'] < (row['mean'] - 2. * row['std']):\n",
    "        out_dn = True\n",
    "    results.loc[index, 'equity'] = equity\n",
    "    if pos_long: results.loc[index, 'position'] = 'LONG'\n",
    "    elif pos_short: results.loc[index, 'position'] = 'LONG'\n",
    "    else: results.loc[index, 'position'] = ''"
   ]
  },
  {
   "cell_type": "code",
   "execution_count": 59,
   "metadata": {
    "collapsed": false
   },
   "outputs": [
    {
     "data": {
      "text/plain": [
       "<matplotlib.axes._subplots.AxesSubplot at 0x11b340908>"
      ]
     },
     "execution_count": 59,
     "metadata": {},
     "output_type": "execute_result"
    },
    {
     "data": {
      "image/png": "[encoded data removed]",
      "text/plain": [
       "<matplotlib.figure.Figure at 0x11b2e4160>"
      ]
     },
     "metadata": {},
     "output_type": "display_data"
    }
   ],
   "source": [
    "results.equity.plot(figsize=(15, 8))"
   ]
  },
  {
   "cell_type": "markdown",
   "metadata": {},
   "source": [
    "##### High Frequency (Live Data)"
   ]
  },
  {
   "cell_type": "code",
   "execution_count": 60,
   "metadata": {
    "collapsed": false
   },
   "outputs": [],
   "source": [
    "import urllib.request\n",
    "try:\n",
    "    url = 'http://hopey.netfonds.no/posdump.php?paper=USDJPY.FXSX&csv_format=csv'\n",
    "    urllib.request.urlretrieve(url, './data/usdjpy_netfonds.csv')\n",
    "except:\n",
    "    pass"
   ]
  },
  {
   "cell_type": "code",
   "execution_count": 61,
   "metadata": {
    "collapsed": false
   },
   "outputs": [
    {
     "name": "stdout",
     "output_type": "stream",
     "text": [
      "time,bid,bid_depth,bid_depth_total,offer,offer_depth,offer_depth_total\r\n",
      "20160907T001514,102.07,0,0,102.1,0,0\r\n",
      "20160907T001516,102.071,0,0,102.101,0,0\r\n",
      "20160907T001517,102.07,0,0,102.101,0,0\r\n",
      "20160907T001517,102.07,0,0,102.1,0,0\r\n",
      "20160907T001522,102.069,0,0,102.099,0,0\r\n",
      "20160907T001525,102.069,0,0,102.1,0,0\r\n",
      "20160907T001525,102.068,0,0,102.099,0,0\r\n",
      "20160907T001528,102.069,0,0,102.1,0,0\r\n",
      "20160907T001529,102.067,0,0,102.098,0,0\r\n"
     ]
    }
   ],
   "source": [
    "!head ./data/usdjpy_netfonds.csv"
   ]
  },
  {
   "cell_type": "code",
   "execution_count": 62,
   "metadata": {
    "collapsed": false
   },
   "outputs": [],
   "source": [
    "df = pd.read_csv('./data/usdjpy_netfonds.csv')"
   ]
  },
  {
   "cell_type": "code",
   "execution_count": 63,
   "metadata": {
    "collapsed": false
   },
   "outputs": [
    {
     "data": {
      "text/html": [
       "<div>\n",
       "<table border=\"1\" class=\"dataframe\">\n",
       "  <thead>\n",
       "    <tr style=\"text-align: right;\">\n",
       "      <th></th>\n",
       "      <th>time</th>\n",
       "      <th>bid</th>\n",
       "      <th>bid_depth</th>\n",
       "      <th>bid_depth_total</th>\n",
       "      <th>offer</th>\n",
       "      <th>offer_depth</th>\n",
       "      <th>offer_depth_total</th>\n",
       "    </tr>\n",
       "  </thead>\n",
       "  <tbody>\n",
       "    <tr>\n",
       "      <th>0</th>\n",
       "      <td>20160907T001514</td>\n",
       "      <td>102.070</td>\n",
       "      <td>0</td>\n",
       "      <td>0</td>\n",
       "      <td>102.100</td>\n",
       "      <td>0</td>\n",
       "      <td>0</td>\n",
       "    </tr>\n",
       "    <tr>\n",
       "      <th>1</th>\n",
       "      <td>20160907T001516</td>\n",
       "      <td>102.071</td>\n",
       "      <td>0</td>\n",
       "      <td>0</td>\n",
       "      <td>102.101</td>\n",
       "      <td>0</td>\n",
       "      <td>0</td>\n",
       "    </tr>\n",
       "    <tr>\n",
       "      <th>2</th>\n",
       "      <td>20160907T001517</td>\n",
       "      <td>102.070</td>\n",
       "      <td>0</td>\n",
       "      <td>0</td>\n",
       "      <td>102.101</td>\n",
       "      <td>0</td>\n",
       "      <td>0</td>\n",
       "    </tr>\n",
       "    <tr>\n",
       "      <th>3</th>\n",
       "      <td>20160907T001517</td>\n",
       "      <td>102.070</td>\n",
       "      <td>0</td>\n",
       "      <td>0</td>\n",
       "      <td>102.100</td>\n",
       "      <td>0</td>\n",
       "      <td>0</td>\n",
       "    </tr>\n",
       "    <tr>\n",
       "      <th>4</th>\n",
       "      <td>20160907T001522</td>\n",
       "      <td>102.069</td>\n",
       "      <td>0</td>\n",
       "      <td>0</td>\n",
       "      <td>102.099</td>\n",
       "      <td>0</td>\n",
       "      <td>0</td>\n",
       "    </tr>\n",
       "  </tbody>\n",
       "</table>\n",
       "</div>"
      ],
      "text/plain": [
       "              time      bid  bid_depth  bid_depth_total    offer  offer_depth  \\\n",
       "0  20160907T001514  102.070          0                0  102.100            0   \n",
       "1  20160907T001516  102.071          0                0  102.101            0   \n",
       "2  20160907T001517  102.070          0                0  102.101            0   \n",
       "3  20160907T001517  102.070          0                0  102.100            0   \n",
       "4  20160907T001522  102.069          0                0  102.099            0   \n",
       "\n",
       "   offer_depth_total  \n",
       "0                  0  \n",
       "1                  0  \n",
       "2                  0  \n",
       "3                  0  \n",
       "4                  0  "
      ]
     },
     "execution_count": 63,
     "metadata": {},
     "output_type": "execute_result"
    }
   ],
   "source": [
    "df.head()"
   ]
  },
  {
   "cell_type": "code",
   "execution_count": 64,
   "metadata": {
    "collapsed": true
   },
   "outputs": [],
   "source": [
    "df.index = pd.to_datetime(df.pop('time'), format='%Y%m%dT%H%M%S')"
   ]
  },
  {
   "cell_type": "code",
   "execution_count": 65,
   "metadata": {
    "collapsed": false
   },
   "outputs": [
    {
     "data": {
      "text/plain": [
       "<matplotlib.axes._subplots.AxesSubplot at 0x11b3a6390>"
      ]
     },
     "execution_count": 65,
     "metadata": {},
     "output_type": "execute_result"
    },
    {
     "data": {
      "image/png": "[encoded data removed]",
      "text/plain": [
       "<matplotlib.figure.Figure at 0x11b2b62e8>"
      ]
     },
     "metadata": {},
     "output_type": "display_data"
    }
   ],
   "source": [
    "df[['bid', 'offer']].plot(figsize=(15, 8))"
   ]
  },
  {
   "cell_type": "markdown",
   "metadata": {},
   "source": [
    "##### Missing handling data"
   ]
  },
  {
   "cell_type": "markdown",
   "metadata": {},
   "source": [
    "##### Rearranging the data "
   ]
  },
  {
   "cell_type": "markdown",
   "metadata": {},
   "source": [
    "![3d_array](./static/3d_array.png)"
   ]
  },
  {
   "cell_type": "markdown",
   "metadata": {},
   "source": [
    "##### Let's visualize data! "
   ]
  },
  {
   "cell_type": "markdown",
   "metadata": {},
   "source": [
    "These functions can be enormously useful when you want to visualize something.\n",
    "\n",
    "And remember!\n",
    "\n",
    "## Always visualize data!\n",
    "\n",
    "Let's try it with **Real** data!"
   ]
  },
  {
   "cell_type": "markdown",
   "metadata": {},
   "source": [
    "#### Machine Learning with scikit-learn "
   ]
  },
  {
   "cell_type": "markdown",
   "metadata": {},
   "source": [
    "![scikit-learn](./static/scikit-learn-logo.png)"
   ]
  },
  {
   "cell_type": "markdown",
   "metadata": {},
   "source": [
    "Scikit-learn is a very complete Python package focusing on machin learning, and data mining and analysis. We will not cover it in depth because it will be the focus of many more talks at the PyData."
   ]
  },
  {
   "cell_type": "markdown",
   "metadata": {},
   "source": [
    "##### A world of possibilities... "
   ]
  },
  {
   "cell_type": "markdown",
   "metadata": {},
   "source": [
    "![scikit-learn](./static/cheatsheet-scikit-learn.png)"
   ]
  },
  {
   "cell_type": "markdown",
   "metadata": {},
   "source": [
    "# Thanks for yor attention! "
   ]
  },
  {
   "cell_type": "markdown",
   "metadata": {},
   "source": [
    "## Any Questions?"
   ]
  },
  {
   "cell_type": "markdown",
   "metadata": {},
   "source": [
    "\n",
    "---\n"
   ]
  },
  {
   "cell_type": "code",
   "execution_count": 66,
   "metadata": {
    "collapsed": false
   },
   "outputs": [
    {
     "data": {
      "text/html": [
       "<link href='http://fonts.googleapis.com/css?family=Source+Sans+Pro|Josefin+Sans:400,700,400italic|Ubuntu+Condensed' rel='stylesheet' type='text/css'>\n",
       "\n",
       "\n",
       "<style>\n",
       "\n",
       "#notebook_panel { /* main background */\n",
       "    background: #f7f7f7;\n",
       "}\n",
       "\n",
       "div.cell { /* set cell width */\n",
       "    width: 900px;\n",
       "}\n",
       "\n",
       "div #notebook { /* centre the content */\n",
       "    background: #fff; /* white background for content */\n",
       "    width: 950px;\n",
       "    margin: auto;\n",
       "    padding-left: 0em;\n",
       "}\n",
       "\n",
       "#notebook li { /* More space between bullet points */\n",
       "    margin-top:0.7em;\n",
       "}\n",
       "\n",
       "/* draw border around running cells */\n",
       "div.cell.border-box-sizing.code_cell.running { \n",
       "    border: 1px solid #111;\n",
       "}\n",
       "\n",
       "/* Put a solid color box around each cell and its output, visually linking them*/\n",
       "div.cell.code_cell {\n",
       "    font-family: 'Source Sans Pro', sans-serif;\n",
       "    background-color: rgb(256,256,256);\n",
       "    font-size: 110%;\n",
       "    border-radius: 0px; \n",
       "    padding: 0.5em;\n",
       "    margin-left:1em;\n",
       "    margin-top: 1em;\n",
       "}\n",
       "\n",
       "div.text_cell_render{\n",
       "    font-family: 'Josefin Sans', serif;\n",
       "    line-height: 145%;\n",
       "    font-size: 125%;\n",
       "    font-weight: 500;\n",
       "    width:750px;\n",
       "    margin-left:auto;\n",
       "    margin-right:auto;\n",
       "}\n",
       "\n",
       "\n",
       "/* Formatting for header cells */\n",
       ".text_cell_render h1, .text_cell_render h2, .text_cell_render h3,\n",
       ".text_cell_render h4, .text_cell_render h5 {\n",
       "    font-family: 'Ubuntu Condensed', sans-serif;\n",
       "}\n",
       "\n",
       ".text_cell_render h1 {    /*Use this for Title*/\n",
       "    font-weight: 500;\n",
       "    font-size: 38pt;\n",
       "    line-height: 100%;\n",
       "    color: #EE9141;\n",
       "    text-align: center;\n",
       "    margin-bottom: 0.1em;\n",
       "    margin-top: 0.3em;\n",
       "    display: block;\n",
       "}\n",
       "\n",
       ".text_cell_render h2 {    /*Use this for Subtitle*/\n",
       "    margin-top:16px;\n",
       "    font-size: 32pt;\n",
       "    font-weight: 500;\n",
       "    margin-bottom: 0.1em;\n",
       "    margin-top: 0.3em;\n",
       "    text-align: center;\n",
       "    font-style: regular;\n",
       "    color: #459EBA;\n",
       "}\t\n",
       "\n",
       ".text_cell_render h3 {   /*Sections*/ \n",
       "    font-size: 30pt;\n",
       "    font-weight: 300;\n",
       "    text-align: left;\n",
       "    margin-bottom: 0.1em;\n",
       "    margin-top: 0.3em;\n",
       "    font-style: regular;\n",
       "    color:  #252525;\n",
       "}\n",
       "\n",
       ".text_cell_render h4 {    /*Subsections*/\n",
       "    font-size: 28pt;\n",
       "    font-weight: 200;\n",
       "    text-align: left;\n",
       "    margin-bottom: 0.1em;\n",
       "    margin-top: 0.3em;\n",
       "    font-style: regular;\n",
       "    color:  #377e95;\n",
       "}\n",
       "\n",
       ".text_cell_render h5 {    /*Subsubsections*/\n",
       "    font-size: 20pt;\n",
       "    font-weight: 300;\n",
       "    font-style: italic;\n",
       "    margin-bottom: .1em;\n",
       "    margin-top: 0.8em;\n",
       "    display: block;\n",
       "    color:  #e77615;\n",
       "}\n",
       "\n",
       ".text_cell_render h6 {    /*Author*/\n",
       "    font-family: 'Ubuntu Condensed', sans-serif;\n",
       "    font-weight: 100;\n",
       "    font-size: 14pt;\n",
       "    line-height: 100%;\n",
       "    color: #252525;\n",
       "    text-align: right;\n",
       "    margin-bottom: 1px;\n",
       "    margin-top: 3px;\n",
       "}\n",
       "\n",
       ".CodeMirror{\n",
       "        font-family: 'Duru Sans', sans-serif;\n",
       "        font-size: 100%;\n",
       "}\n",
       "\n",
       "</style>\n",
       "<script>\n",
       "    MathJax.Hub.Config({\n",
       "                        TeX: {\n",
       "                           extensions: [\"AMSmath.js\"],\n",
       "                           equationNumbers: { autoNumber: \"AMS\", useLabelIds: true}\n",
       "                           },\n",
       "                tex2jax: {\n",
       "                    inlineMath: [ ['$','$'], [\"\\\\(\",\"\\\\)\"] ],\n",
       "                    displayMath: [ ['$$','$$'], [\"\\\\[\",\"\\\\]\"] ]\n",
       "                },\n",
       "                displayAlign: 'center', // Change this to 'center' to center equations.\n",
       "                \"HTML-CSS\": {\n",
       "                    styles: {'.MathJax_Display': {\"margin\": 4}}\n",
       "                }\n",
       "        });\n",
       "</script>\n"
      ],
      "text/plain": [
       "<IPython.core.display.HTML object>"
      ]
     },
     "execution_count": 66,
     "metadata": {},
     "output_type": "execute_result"
    }
   ],
   "source": [
    "# Notebook style\n",
    "from IPython.core.display import HTML\n",
    "css_file = './static/style.css'\n",
    "HTML(open(css_file, \"r\").read())"
   ]
  }
 ],
 "metadata": {
  "anaconda-cloud": {},
  "kernelspec": {
   "display_name": "Python [Root]",
   "language": "python",
   "name": "Python [Root]"
  },
  "language_info": {
   "codemirror_mode": {
    "name": "ipython",
    "version": 3
   },
   "file_extension": ".py",
   "mimetype": "text/x-python",
   "name": "python",
   "nbconvert_exporter": "python",
   "pygments_lexer": "ipython3",
   "version": "3.5.2"
  }
 },
 "nbformat": 4,
 "nbformat_minor": 0
}
